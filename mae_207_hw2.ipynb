{
 "cells": [
  {
   "cell_type": "markdown",
   "metadata": {},
   "source": [
    "# Assignment 2: Inverse kinematics of our leg\n",
    "\n",
    "Use this noteboook to document interacting with the robot class. The primary goal for this assignment is a video recording and plot rendering of your robot leg commanded to move along an *interesting* path (see the bat sign I chose in the readme page). \n",
    "\n",
    "__Deliverables__\n",
    "1. Your leg.py file in the robot python module we are creating. The template provided has blank functions which need to be completed.\n",
    "2. Two videos, a video of your robot tracing out your commanded trajectory (uploaded to youtube), and a gif of robot commanded trajectory (like on the readme page).\n",
    "3. This notebook which you will use to send the move commands for the trajectory.\n",
    "\n",
    "\n",
    "Team #:\n",
    "\n",
    "Names: Kristoffer Borgen Knudsen"
   ]
  },
  {
   "cell_type": "markdown",
   "metadata": {},
   "source": [
    "# Getting started"
   ]
  },
  {
   "cell_type": "code",
   "execution_count": 1,
   "metadata": {},
   "outputs": [],
   "source": [
    "import robot"
   ]
  },
  {
   "cell_type": "code",
   "execution_count": 2,
   "metadata": {},
   "outputs": [
    {
     "name": "stdout",
     "output_type": "stream",
     "text": [
      "Connected!\n",
      "here2\n",
      "Matrix([[-14*((2*(-3.75*sin(theta_0_sym)/sqrt(105.0*cos(theta_0_sym) + 105.25) + (-7.0*sin(theta_0_sym)/sqrt(105.0*cos(theta_0_sym) + 105.25) + 3.5*(105.0*cos(theta_0_sym) + 112.5)*sin(theta_0_sym)/(105.0*cos(theta_0_sym) + 105.25)**(3/2))*sin(theta_1_sym - acos(0.0666666666666667*(105.0*cos(theta_0_sym) + 112.5)/sqrt(105.0*cos(theta_0_sym) + 105.25)))/(2*sqrt(1 - 0.00444444444444444*(105.0*cos(theta_0_sym) + 112.5)**2/(105.0*cos(theta_0_sym) + 105.25))))/sin(theta_1_sym - acos(0.0666666666666667*(105.0*cos(theta_0_sym) + 112.5)/sqrt(105.0*cos(theta_0_sym) + 105.25))) - 2*(-7.0*sin(theta_0_sym)/sqrt(105.0*cos(theta_0_sym) + 105.25) + 3.5*(105.0*cos(theta_0_sym) + 112.5)*sin(theta_0_sym)/(105.0*cos(theta_0_sym) + 105.25)**(3/2))*(sqrt(105.0*cos(theta_0_sym) + 105.25)/14 - cos(theta_1_sym - acos(0.0666666666666667*(105.0*cos(theta_0_sym) + 112.5)/sqrt(105.0*cos(theta_0_sym) + 105.25)))/2)*cos(theta_1_sym - acos(0.0666666666666667*(105.0*cos(theta_0_sym) + 112.5)/sqrt(105.0*cos(theta_0_sym) + 105.25)))/(sqrt(1 - 0.00444444444444444*(105.0*cos(theta_0_sym) + 112.5)**2/(105.0*cos(theta_0_sym) + 105.25))*sin(theta_1_sym - acos(0.0666666666666667*(105.0*cos(theta_0_sym) + 112.5)/sqrt(105.0*cos(theta_0_sym) + 105.25)))**2))/(4*(sqrt(105.0*cos(theta_0_sym) + 105.25)/14 - cos(theta_1_sym - acos(0.0666666666666667*(105.0*cos(theta_0_sym) + 112.5)/sqrt(105.0*cos(theta_0_sym) + 105.25)))/2)**2/sin(theta_1_sym - acos(0.0666666666666667*(105.0*cos(theta_0_sym) + 112.5)/sqrt(105.0*cos(theta_0_sym) + 105.25)))**2 + 1) - 0.5*(-(7.5*sin(theta_0_sym)/sqrt(105.0*cos(theta_0_sym) + 105.25) - (-7.0*sin(theta_0_sym)/sqrt(105.0*cos(theta_0_sym) + 105.25) + 3.5*(105.0*cos(theta_0_sym) + 112.5)*sin(theta_0_sym)/(105.0*cos(theta_0_sym) + 105.25)**(3/2))*sin(theta_1_sym - acos(0.0666666666666667*(105.0*cos(theta_0_sym) + 112.5)/sqrt(105.0*cos(theta_0_sym) + 105.25)))/sqrt(1 - 0.00444444444444444*(105.0*cos(theta_0_sym) + 112.5)**2/(105.0*cos(theta_0_sym) + 105.25)))*(-sqrt(105.0*cos(theta_0_sym) + 105.25)/14 + cos(theta_1_sym - acos(0.0666666666666667*(105.0*cos(theta_0_sym) + 112.5)/sqrt(105.0*cos(theta_0_sym) + 105.25)))/2)/2 - (-7.0*sin(theta_0_sym)/sqrt(105.0*cos(theta_0_sym) + 105.25) + 3.5*(105.0*cos(theta_0_sym) + 112.5)*sin(theta_0_sym)/(105.0*cos(theta_0_sym) + 105.25)**(3/2))*sin(theta_1_sym - acos(0.0666666666666667*(105.0*cos(theta_0_sym) + 112.5)/sqrt(105.0*cos(theta_0_sym) + 105.25)))*cos(theta_1_sym - acos(0.0666666666666667*(105.0*cos(theta_0_sym) + 112.5)/sqrt(105.0*cos(theta_0_sym) + 105.25)))/(4*sqrt(1 - 0.00444444444444444*(105.0*cos(theta_0_sym) + 112.5)**2/(105.0*cos(theta_0_sym) + 105.25))))/sqrt(-(-(-sqrt(105.0*cos(theta_0_sym) + 105.25)/14 + cos(theta_1_sym - acos(0.0666666666666667*(105.0*cos(theta_0_sym) + 112.5)/sqrt(105.0*cos(theta_0_sym) + 105.25)))/2)**2/2 - sin(theta_1_sym - acos(0.0666666666666667*(105.0*cos(theta_0_sym) + 112.5)/sqrt(105.0*cos(theta_0_sym) + 105.25)))**2/8 + 1)**2 + 1) - (-7.0*sin(theta_0_sym)/sqrt(105.0*cos(theta_0_sym) + 105.25) + 3.5*(105.0*cos(theta_0_sym) + 112.5)*sin(theta_0_sym)/(105.0*cos(theta_0_sym) + 105.25)**(3/2))/sqrt(1 - 0.00444444444444444*(105.0*cos(theta_0_sym) + 112.5)**2/(105.0*cos(theta_0_sym) + 105.25)))*sin(acos(0.0666666666666667*(105.0*cos(theta_0_sym) + 112.5)/sqrt(105.0*cos(theta_0_sym) + 105.25)) + 0.5*acos(-(-sqrt(105.0*cos(theta_0_sym) + 105.25)/14 + cos(theta_1_sym - acos(0.0666666666666667*(105.0*cos(theta_0_sym) + 112.5)/sqrt(105.0*cos(theta_0_sym) + 105.25)))/2)**2/2 - sin(theta_1_sym - acos(0.0666666666666667*(105.0*cos(theta_0_sym) + 112.5)/sqrt(105.0*cos(theta_0_sym) + 105.25)))**2/8 + 1) + atan(2*(sqrt(105.0*cos(theta_0_sym) + 105.25)/14 - cos(theta_1_sym - acos(0.0666666666666667*(105.0*cos(theta_0_sym) + 112.5)/sqrt(105.0*cos(theta_0_sym) + 105.25)))/2)/sin(theta_1_sym - acos(0.0666666666666667*(105.0*cos(theta_0_sym) + 112.5)/sqrt(105.0*cos(theta_0_sym) + 105.25))))) - 7*sin(theta_0_sym), -14*(-0.5*((-sqrt(105.0*cos(theta_0_sym) + 105.25)/14 + cos(theta_1_sym - acos(0.0666666666666667*(105.0*cos(theta_0_sym) + 112.5)/sqrt(105.0*cos(theta_0_sym) + 105.25)))/2)*sin(theta_1_sym - acos(0.0666666666666667*(105.0*cos(theta_0_sym) + 112.5)/sqrt(105.0*cos(theta_0_sym) + 105.25)))/2 - sin(theta_1_sym - acos(0.0666666666666667*(105.0*cos(theta_0_sym) + 112.5)/sqrt(105.0*cos(theta_0_sym) + 105.25)))*cos(theta_1_sym - acos(0.0666666666666667*(105.0*cos(theta_0_sym) + 112.5)/sqrt(105.0*cos(theta_0_sym) + 105.25)))/4)/sqrt(-(-(-sqrt(105.0*cos(theta_0_sym) + 105.25)/14 + cos(theta_1_sym - acos(0.0666666666666667*(105.0*cos(theta_0_sym) + 112.5)/sqrt(105.0*cos(theta_0_sym) + 105.25)))/2)**2/2 - sin(theta_1_sym - acos(0.0666666666666667*(105.0*cos(theta_0_sym) + 112.5)/sqrt(105.0*cos(theta_0_sym) + 105.25)))**2/8 + 1)**2 + 1) + (-2*(sqrt(105.0*cos(theta_0_sym) + 105.25)/14 - cos(theta_1_sym - acos(0.0666666666666667*(105.0*cos(theta_0_sym) + 112.5)/sqrt(105.0*cos(theta_0_sym) + 105.25)))/2)*cos(theta_1_sym - acos(0.0666666666666667*(105.0*cos(theta_0_sym) + 112.5)/sqrt(105.0*cos(theta_0_sym) + 105.25)))/sin(theta_1_sym - acos(0.0666666666666667*(105.0*cos(theta_0_sym) + 112.5)/sqrt(105.0*cos(theta_0_sym) + 105.25)))**2 + 1)/(4*(sqrt(105.0*cos(theta_0_sym) + 105.25)/14 - cos(theta_1_sym - acos(0.0666666666666667*(105.0*cos(theta_0_sym) + 112.5)/sqrt(105.0*cos(theta_0_sym) + 105.25)))/2)**2/sin(theta_1_sym - acos(0.0666666666666667*(105.0*cos(theta_0_sym) + 112.5)/sqrt(105.0*cos(theta_0_sym) + 105.25)))**2 + 1))*sin(acos(0.0666666666666667*(105.0*cos(theta_0_sym) + 112.5)/sqrt(105.0*cos(theta_0_sym) + 105.25)) + 0.5*acos(-(-sqrt(105.0*cos(theta_0_sym) + 105.25)/14 + cos(theta_1_sym - acos(0.0666666666666667*(105.0*cos(theta_0_sym) + 112.5)/sqrt(105.0*cos(theta_0_sym) + 105.25)))/2)**2/2 - sin(theta_1_sym - acos(0.0666666666666667*(105.0*cos(theta_0_sym) + 112.5)/sqrt(105.0*cos(theta_0_sym) + 105.25)))**2/8 + 1) + atan(2*(sqrt(105.0*cos(theta_0_sym) + 105.25)/14 - cos(theta_1_sym - acos(0.0666666666666667*(105.0*cos(theta_0_sym) + 112.5)/sqrt(105.0*cos(theta_0_sym) + 105.25)))/2)/sin(theta_1_sym - acos(0.0666666666666667*(105.0*cos(theta_0_sym) + 112.5)/sqrt(105.0*cos(theta_0_sym) + 105.25)))))], [14*((2*(-3.75*sin(theta_0_sym)/sqrt(105.0*cos(theta_0_sym) + 105.25) + (-7.0*sin(theta_0_sym)/sqrt(105.0*cos(theta_0_sym) + 105.25) + 3.5*(105.0*cos(theta_0_sym) + 112.5)*sin(theta_0_sym)/(105.0*cos(theta_0_sym) + 105.25)**(3/2))*sin(theta_1_sym - acos(0.0666666666666667*(105.0*cos(theta_0_sym) + 112.5)/sqrt(105.0*cos(theta_0_sym) + 105.25)))/(2*sqrt(1 - 0.00444444444444444*(105.0*cos(theta_0_sym) + 112.5)**2/(105.0*cos(theta_0_sym) + 105.25))))/sin(theta_1_sym - acos(0.0666666666666667*(105.0*cos(theta_0_sym) + 112.5)/sqrt(105.0*cos(theta_0_sym) + 105.25))) - 2*(-7.0*sin(theta_0_sym)/sqrt(105.0*cos(theta_0_sym) + 105.25) + 3.5*(105.0*cos(theta_0_sym) + 112.5)*sin(theta_0_sym)/(105.0*cos(theta_0_sym) + 105.25)**(3/2))*(sqrt(105.0*cos(theta_0_sym) + 105.25)/14 - cos(theta_1_sym - acos(0.0666666666666667*(105.0*cos(theta_0_sym) + 112.5)/sqrt(105.0*cos(theta_0_sym) + 105.25)))/2)*cos(theta_1_sym - acos(0.0666666666666667*(105.0*cos(theta_0_sym) + 112.5)/sqrt(105.0*cos(theta_0_sym) + 105.25)))/(sqrt(1 - 0.00444444444444444*(105.0*cos(theta_0_sym) + 112.5)**2/(105.0*cos(theta_0_sym) + 105.25))*sin(theta_1_sym - acos(0.0666666666666667*(105.0*cos(theta_0_sym) + 112.5)/sqrt(105.0*cos(theta_0_sym) + 105.25)))**2))/(4*(sqrt(105.0*cos(theta_0_sym) + 105.25)/14 - cos(theta_1_sym - acos(0.0666666666666667*(105.0*cos(theta_0_sym) + 112.5)/sqrt(105.0*cos(theta_0_sym) + 105.25)))/2)**2/sin(theta_1_sym - acos(0.0666666666666667*(105.0*cos(theta_0_sym) + 112.5)/sqrt(105.0*cos(theta_0_sym) + 105.25)))**2 + 1) - 0.5*(-(7.5*sin(theta_0_sym)/sqrt(105.0*cos(theta_0_sym) + 105.25) - (-7.0*sin(theta_0_sym)/sqrt(105.0*cos(theta_0_sym) + 105.25) + 3.5*(105.0*cos(theta_0_sym) + 112.5)*sin(theta_0_sym)/(105.0*cos(theta_0_sym) + 105.25)**(3/2))*sin(theta_1_sym - acos(0.0666666666666667*(105.0*cos(theta_0_sym) + 112.5)/sqrt(105.0*cos(theta_0_sym) + 105.25)))/sqrt(1 - 0.00444444444444444*(105.0*cos(theta_0_sym) + 112.5)**2/(105.0*cos(theta_0_sym) + 105.25)))*(-sqrt(105.0*cos(theta_0_sym) + 105.25)/14 + cos(theta_1_sym - acos(0.0666666666666667*(105.0*cos(theta_0_sym) + 112.5)/sqrt(105.0*cos(theta_0_sym) + 105.25)))/2)/2 - (-7.0*sin(theta_0_sym)/sqrt(105.0*cos(theta_0_sym) + 105.25) + 3.5*(105.0*cos(theta_0_sym) + 112.5)*sin(theta_0_sym)/(105.0*cos(theta_0_sym) + 105.25)**(3/2))*sin(theta_1_sym - acos(0.0666666666666667*(105.0*cos(theta_0_sym) + 112.5)/sqrt(105.0*cos(theta_0_sym) + 105.25)))*cos(theta_1_sym - acos(0.0666666666666667*(105.0*cos(theta_0_sym) + 112.5)/sqrt(105.0*cos(theta_0_sym) + 105.25)))/(4*sqrt(1 - 0.00444444444444444*(105.0*cos(theta_0_sym) + 112.5)**2/(105.0*cos(theta_0_sym) + 105.25))))/sqrt(-(-(-sqrt(105.0*cos(theta_0_sym) + 105.25)/14 + cos(theta_1_sym - acos(0.0666666666666667*(105.0*cos(theta_0_sym) + 112.5)/sqrt(105.0*cos(theta_0_sym) + 105.25)))/2)**2/2 - sin(theta_1_sym - acos(0.0666666666666667*(105.0*cos(theta_0_sym) + 112.5)/sqrt(105.0*cos(theta_0_sym) + 105.25)))**2/8 + 1)**2 + 1) - (-7.0*sin(theta_0_sym)/sqrt(105.0*cos(theta_0_sym) + 105.25) + 3.5*(105.0*cos(theta_0_sym) + 112.5)*sin(theta_0_sym)/(105.0*cos(theta_0_sym) + 105.25)**(3/2))/sqrt(1 - 0.00444444444444444*(105.0*cos(theta_0_sym) + 112.5)**2/(105.0*cos(theta_0_sym) + 105.25)))*cos(acos(0.0666666666666667*(105.0*cos(theta_0_sym) + 112.5)/sqrt(105.0*cos(theta_0_sym) + 105.25)) + 0.5*acos(-(-sqrt(105.0*cos(theta_0_sym) + 105.25)/14 + cos(theta_1_sym - acos(0.0666666666666667*(105.0*cos(theta_0_sym) + 112.5)/sqrt(105.0*cos(theta_0_sym) + 105.25)))/2)**2/2 - sin(theta_1_sym - acos(0.0666666666666667*(105.0*cos(theta_0_sym) + 112.5)/sqrt(105.0*cos(theta_0_sym) + 105.25)))**2/8 + 1) + atan(2*(sqrt(105.0*cos(theta_0_sym) + 105.25)/14 - cos(theta_1_sym - acos(0.0666666666666667*(105.0*cos(theta_0_sym) + 112.5)/sqrt(105.0*cos(theta_0_sym) + 105.25)))/2)/sin(theta_1_sym - acos(0.0666666666666667*(105.0*cos(theta_0_sym) + 112.5)/sqrt(105.0*cos(theta_0_sym) + 105.25))))) + 7*cos(theta_0_sym), 14*(-0.5*((-sqrt(105.0*cos(theta_0_sym) + 105.25)/14 + cos(theta_1_sym - acos(0.0666666666666667*(105.0*cos(theta_0_sym) + 112.5)/sqrt(105.0*cos(theta_0_sym) + 105.25)))/2)*sin(theta_1_sym - acos(0.0666666666666667*(105.0*cos(theta_0_sym) + 112.5)/sqrt(105.0*cos(theta_0_sym) + 105.25)))/2 - sin(theta_1_sym - acos(0.0666666666666667*(105.0*cos(theta_0_sym) + 112.5)/sqrt(105.0*cos(theta_0_sym) + 105.25)))*cos(theta_1_sym - acos(0.0666666666666667*(105.0*cos(theta_0_sym) + 112.5)/sqrt(105.0*cos(theta_0_sym) + 105.25)))/4)/sqrt(-(-(-sqrt(105.0*cos(theta_0_sym) + 105.25)/14 + cos(theta_1_sym - acos(0.0666666666666667*(105.0*cos(theta_0_sym) + 112.5)/sqrt(105.0*cos(theta_0_sym) + 105.25)))/2)**2/2 - sin(theta_1_sym - acos(0.0666666666666667*(105.0*cos(theta_0_sym) + 112.5)/sqrt(105.0*cos(theta_0_sym) + 105.25)))**2/8 + 1)**2 + 1) + (-2*(sqrt(105.0*cos(theta_0_sym) + 105.25)/14 - cos(theta_1_sym - acos(0.0666666666666667*(105.0*cos(theta_0_sym) + 112.5)/sqrt(105.0*cos(theta_0_sym) + 105.25)))/2)*cos(theta_1_sym - acos(0.0666666666666667*(105.0*cos(theta_0_sym) + 112.5)/sqrt(105.0*cos(theta_0_sym) + 105.25)))/sin(theta_1_sym - acos(0.0666666666666667*(105.0*cos(theta_0_sym) + 112.5)/sqrt(105.0*cos(theta_0_sym) + 105.25)))**2 + 1)/(4*(sqrt(105.0*cos(theta_0_sym) + 105.25)/14 - cos(theta_1_sym - acos(0.0666666666666667*(105.0*cos(theta_0_sym) + 112.5)/sqrt(105.0*cos(theta_0_sym) + 105.25)))/2)**2/sin(theta_1_sym - acos(0.0666666666666667*(105.0*cos(theta_0_sym) + 112.5)/sqrt(105.0*cos(theta_0_sym) + 105.25)))**2 + 1))*cos(acos(0.0666666666666667*(105.0*cos(theta_0_sym) + 112.5)/sqrt(105.0*cos(theta_0_sym) + 105.25)) + 0.5*acos(-(-sqrt(105.0*cos(theta_0_sym) + 105.25)/14 + cos(theta_1_sym - acos(0.0666666666666667*(105.0*cos(theta_0_sym) + 112.5)/sqrt(105.0*cos(theta_0_sym) + 105.25)))/2)**2/2 - sin(theta_1_sym - acos(0.0666666666666667*(105.0*cos(theta_0_sym) + 112.5)/sqrt(105.0*cos(theta_0_sym) + 105.25)))**2/8 + 1) + atan(2*(sqrt(105.0*cos(theta_0_sym) + 105.25)/14 - cos(theta_1_sym - acos(0.0666666666666667*(105.0*cos(theta_0_sym) + 112.5)/sqrt(105.0*cos(theta_0_sym) + 105.25)))/2)/sin(theta_1_sym - acos(0.0666666666666667*(105.0*cos(theta_0_sym) + 112.5)/sqrt(105.0*cos(theta_0_sym) + 105.25)))))]])\n",
      "(2, 2)\n"
     ]
    }
   ],
   "source": [
    "leg = robot.Leg()"
   ]
  },
  {
   "cell_type": "code",
   "execution_count": 3,
   "metadata": {},
   "outputs": [
    {
     "name": "stdout",
     "output_type": "stream",
     "text": [
      "joint0: -0.012539 \t joint1: 0.000931\n"
     ]
    }
   ],
   "source": [
    "leg.get_joint_pos()\n",
    "\n",
    "print('joint0: %f \\t joint1: %f' % (leg.joint_0_pos, leg.joint_1_pos))\n",
    "leg.set_home()      # set the current position to be home"
   ]
  },
  {
   "cell_type": "markdown",
   "metadata": {},
   "source": [
    "# Your code below!"
   ]
  },
  {
   "cell_type": "code",
   "execution_count": 4,
   "metadata": {},
   "outputs": [
    {
     "data": {
      "image/png": "[encoded data removed]",
      "text/plain": [
       "<matplotlib.figure.Figure at 0x10f5a6c50>"
      ]
     },
     "metadata": {},
     "output_type": "display_data"
    }
   ],
   "source": [
    "leg.get_joint_pos()\n",
    "leg.draw_leg()"
   ]
  },
  {
   "cell_type": "code",
   "execution_count": 6,
   "metadata": {},
   "outputs": [],
   "source": [
    "\n",
    "leg.set_joint_pos(-100, -600) # move motor0 and motor1\n",
    "current_position = leg.get_joint_pos()\n",
    "#leg.move_home()\n"
   ]
  },
  {
   "cell_type": "code",
   "execution_count": 5,
   "metadata": {},
   "outputs": [
    {
     "data": {
      "text/plain": [
       "(acos(0.0666666666666667*(105.0*cos(1) + 112.5)/sqrt(105.0*cos(1) + 105.25)) + 0.5*acos(-(-sqrt(105.0*cos(1) + 105.25)/14 + cos(-acos(0.0666666666666667*(105.0*cos(1) + 112.5)/sqrt(105.0*cos(1) + 105.25)) + 2)/2)**2/2 - sin(-acos(0.0666666666666667*(105.0*cos(1) + 112.5)/sqrt(105.0*cos(1) + 105.25)) + 2)**2/8 + 1) + atan(2*(-cos(-acos(0.0666666666666667*(105.0*cos(1) + 112.5)/sqrt(105.0*cos(1) + 105.25)) + 2)/2 + sqrt(105.0*cos(1) + 105.25)/14)/sin(-acos(0.0666666666666667*(105.0*cos(1) + 112.5)/sqrt(105.0*cos(1) + 105.25)) + 2)),\n",
       " -0.5*acos(-(-sqrt(105.0*cos(1) + 105.25)/14 + cos(-acos(0.0666666666666667*(105.0*cos(1) + 112.5)/sqrt(105.0*cos(1) + 105.25)) + 2)/2)**2/2 - sin(-acos(0.0666666666666667*(105.0*cos(1) + 112.5)/sqrt(105.0*cos(1) + 105.25)) + 2)**2/8 + 1) + acos(0.0666666666666667*(105.0*cos(1) + 112.5)/sqrt(105.0*cos(1) + 105.25)) + atan(2*(-cos(-acos(0.0666666666666667*(105.0*cos(1) + 112.5)/sqrt(105.0*cos(1) + 105.25)) + 2)/2 + sqrt(105.0*cos(1) + 105.25)/14)/sin(-acos(0.0666666666666667*(105.0*cos(1) + 112.5)/sqrt(105.0*cos(1) + 105.25)) + 2)))"
      ]
     },
     "execution_count": 5,
     "metadata": {},
     "output_type": "execute_result"
    }
   ],
   "source": [
    "leg.compute_internal_angles(1, 2)"
   ]
  },
  {
   "cell_type": "code",
   "execution_count": 3,
   "metadata": {},
   "outputs": [
    {
     "name": "stdout",
     "output_type": "stream",
     "text": [
      "[-0.01176843  0.00189796]\n",
      "Matrix([[-174.623539801364], [-146.464298596424]])\n",
      "227.914833690352\n",
      "[[-0.04127995  0.14335286]\n",
      " [-0.03858171 -0.14202507]]\n"
     ]
    },
    {
     "ename": "ShapeError",
     "evalue": "Matrix size mismatch: (2, 1) + (2,)",
     "output_type": "error",
     "traceback": [
      "\u001b[0;31m---------------------------------------------------------------------------\u001b[0m",
      "\u001b[0;31mShapeError\u001b[0m                                Traceback (most recent call last)",
      "\u001b[0;32m<ipython-input-3-0cb189d06b09>\u001b[0m in \u001b[0;36m<module>\u001b[0;34m()\u001b[0m\n\u001b[0;32m----> 1\u001b[0;31m \u001b[0mleg\u001b[0m\u001b[0;34m.\u001b[0m\u001b[0minverse_kinematics\u001b[0m\u001b[0;34m(\u001b[0m\u001b[0;34m-\u001b[0m\u001b[0;36m160\u001b[0m\u001b[0;34m,\u001b[0m \u001b[0;34m-\u001b[0m\u001b[0;36m160\u001b[0m\u001b[0;34m)\u001b[0m\u001b[0;34m\u001b[0m\u001b[0m\n\u001b[0m",
      "\u001b[0;32m~/ODrive/tools/robot/leg.py\u001b[0m in \u001b[0;36minverse_kinematics\u001b[0;34m(self, x, y)\u001b[0m\n\u001b[1;32m    282\u001b[0m             \u001b[0mJ_current_inv\u001b[0m \u001b[0;34m=\u001b[0m \u001b[0mnp\u001b[0m\u001b[0;34m.\u001b[0m\u001b[0mlinalg\u001b[0m\u001b[0;34m.\u001b[0m\u001b[0mpinv\u001b[0m\u001b[0;34m(\u001b[0m\u001b[0mJ_current_inv\u001b[0m\u001b[0;34m)\u001b[0m\u001b[0;34m\u001b[0m\u001b[0m\n\u001b[1;32m    283\u001b[0m             \u001b[0mprint\u001b[0m\u001b[0;34m(\u001b[0m\u001b[0mJ_current_inv\u001b[0m\u001b[0;34m)\u001b[0m\u001b[0;34m\u001b[0m\u001b[0m\n\u001b[0;32m--> 284\u001b[0;31m             \u001b[0mtheta_current\u001b[0m \u001b[0;34m=\u001b[0m \u001b[0mbeta\u001b[0m\u001b[0;34m*\u001b[0m\u001b[0mJ_current_inv\u001b[0m\u001b[0;34m*\u001b[0m\u001b[0mx_error\u001b[0m \u001b[0;34m+\u001b[0m \u001b[0mtheta_current\u001b[0m\u001b[0;34m\u001b[0m\u001b[0m\n\u001b[0m\u001b[1;32m    285\u001b[0m \u001b[0;34m\u001b[0m\u001b[0m\n\u001b[1;32m    286\u001b[0m \u001b[0;34m\u001b[0m\u001b[0m\n",
      "\u001b[0;32m/anaconda3/lib/python3.6/site-packages/sympy/core/decorators.py\u001b[0m in \u001b[0;36mbinary_op_wrapper\u001b[0;34m(self, other)\u001b[0m\n\u001b[1;32m    130\u001b[0m                     \u001b[0;32melse\u001b[0m\u001b[0;34m:\u001b[0m\u001b[0;34m\u001b[0m\u001b[0m\n\u001b[1;32m    131\u001b[0m                         \u001b[0;32mreturn\u001b[0m \u001b[0mf\u001b[0m\u001b[0;34m(\u001b[0m\u001b[0mself\u001b[0m\u001b[0;34m)\u001b[0m\u001b[0;34m\u001b[0m\u001b[0m\n\u001b[0;32m--> 132\u001b[0;31m             \u001b[0;32mreturn\u001b[0m \u001b[0mfunc\u001b[0m\u001b[0;34m(\u001b[0m\u001b[0mself\u001b[0m\u001b[0;34m,\u001b[0m \u001b[0mother\u001b[0m\u001b[0;34m)\u001b[0m\u001b[0;34m\u001b[0m\u001b[0m\n\u001b[0m\u001b[1;32m    133\u001b[0m         \u001b[0;32mreturn\u001b[0m \u001b[0mbinary_op_wrapper\u001b[0m\u001b[0;34m\u001b[0m\u001b[0m\n\u001b[1;32m    134\u001b[0m     \u001b[0;32mreturn\u001b[0m \u001b[0mpriority_decorator\u001b[0m\u001b[0;34m\u001b[0m\u001b[0m\n",
      "\u001b[0;32m/anaconda3/lib/python3.6/site-packages/sympy/matrices/common.py\u001b[0m in \u001b[0;36m__add__\u001b[0;34m(self, other)\u001b[0m\n\u001b[1;32m   1949\u001b[0m             \u001b[0;32mif\u001b[0m \u001b[0mself\u001b[0m\u001b[0;34m.\u001b[0m\u001b[0mshape\u001b[0m \u001b[0;34m!=\u001b[0m \u001b[0mother\u001b[0m\u001b[0;34m.\u001b[0m\u001b[0mshape\u001b[0m\u001b[0;34m:\u001b[0m\u001b[0;34m\u001b[0m\u001b[0m\n\u001b[1;32m   1950\u001b[0m                 raise ShapeError(\"Matrix size mismatch: %s + %s\" % (\n\u001b[0;32m-> 1951\u001b[0;31m                     self.shape, other.shape))\n\u001b[0m\u001b[1;32m   1952\u001b[0m \u001b[0;34m\u001b[0m\u001b[0m\n\u001b[1;32m   1953\u001b[0m         \u001b[0;31m# honest sympy matrices defer to their class's routine\u001b[0m\u001b[0;34m\u001b[0m\u001b[0;34m\u001b[0m\u001b[0m\n",
      "\u001b[0;31mShapeError\u001b[0m: Matrix size mismatch: (2, 1) + (2,)"
     ]
    }
   ],
   "source": [
    "leg.inverse_kinematics(-160, -160)"
   ]
  },
  {
   "cell_type": "code",
   "execution_count": 3,
   "metadata": {},
   "outputs": [
    {
     "name": "stdout",
     "output_type": "stream",
     "text": [
      "23.9858609347487\n"
     ]
    },
    {
     "ename": "AttributeError",
     "evalue": "'Float' object has no attribute 'sin'",
     "output_type": "error",
     "traceback": [
      "\u001b[0;31m---------------------------------------------------------------------------\u001b[0m",
      "\u001b[0;31mAttributeError\u001b[0m                            Traceback (most recent call last)",
      "\u001b[0;32m<ipython-input-3-937f5dbfe357>\u001b[0m in \u001b[0;36m<module>\u001b[0;34m()\u001b[0m\n\u001b[1;32m      3\u001b[0m \u001b[0mt\u001b[0m \u001b[0;34m=\u001b[0m \u001b[0;36m20\u001b[0m\u001b[0;34m\u001b[0m\u001b[0m\n\u001b[1;32m      4\u001b[0m \u001b[0;34m\u001b[0m\u001b[0m\n\u001b[0;32m----> 5\u001b[0;31m \u001b[0mleg\u001b[0m\u001b[0;34m.\u001b[0m\u001b[0mmove_trajectory\u001b[0m\u001b[0;34m(\u001b[0m\u001b[0mt\u001b[0m\u001b[0;34m,\u001b[0m\u001b[0ma\u001b[0m\u001b[0;34m,\u001b[0m\u001b[0mb\u001b[0m\u001b[0;34m)\u001b[0m\u001b[0;34m\u001b[0m\u001b[0m\n\u001b[0m",
      "\u001b[0;32m~/ODrive/tools/robot/leg.py\u001b[0m in \u001b[0;36mmove_trajectory\u001b[0;34m(self, tt, xx, yy)\u001b[0m\n\u001b[1;32m    192\u001b[0m             \u001b[0mb\u001b[0m\u001b[0;34m=\u001b[0m\u001b[0myy\u001b[0m\u001b[0;34m[\u001b[0m\u001b[0mi\u001b[0m\u001b[0;34m]\u001b[0m\u001b[0;34m\u001b[0m\u001b[0m\n\u001b[1;32m    193\u001b[0m \u001b[0;34m\u001b[0m\u001b[0m\n\u001b[0;32m--> 194\u001b[0;31m             \u001b[0mself\u001b[0m\u001b[0;34m.\u001b[0m\u001b[0mset_foot_pos\u001b[0m\u001b[0;34m(\u001b[0m\u001b[0ma\u001b[0m\u001b[0;34m,\u001b[0m \u001b[0mb\u001b[0m\u001b[0;34m)\u001b[0m\u001b[0;34m\u001b[0m\u001b[0m\n\u001b[0m\u001b[1;32m    195\u001b[0m \u001b[0;34m\u001b[0m\u001b[0m\n\u001b[1;32m    196\u001b[0m \u001b[0;34m\u001b[0m\u001b[0m\n",
      "\u001b[0;32m~/ODrive/tools/robot/leg.py\u001b[0m in \u001b[0;36mset_foot_pos\u001b[0;34m(self, x, y)\u001b[0m\n\u001b[1;32m    169\u001b[0m \u001b[0;34m\u001b[0m\u001b[0m\n\u001b[1;32m    170\u001b[0m         \u001b[0;31m# Your code here\u001b[0m\u001b[0;34m\u001b[0m\u001b[0;34m\u001b[0m\u001b[0m\n\u001b[0;32m--> 171\u001b[0;31m         \u001b[0mtheta_0\u001b[0m\u001b[0;34m,\u001b[0m \u001b[0mtheta_1\u001b[0m \u001b[0;34m=\u001b[0m \u001b[0mself\u001b[0m\u001b[0;34m.\u001b[0m\u001b[0minverse_kinematics\u001b[0m\u001b[0;34m(\u001b[0m\u001b[0mx\u001b[0m\u001b[0;34m,\u001b[0m \u001b[0my\u001b[0m\u001b[0;34m)\u001b[0m\u001b[0;34m\u001b[0m\u001b[0m\n\u001b[0m\u001b[1;32m    172\u001b[0m         \u001b[0mself\u001b[0m\u001b[0;34m.\u001b[0m\u001b[0mset_joint_pos\u001b[0m\u001b[0;34m(\u001b[0m\u001b[0mtheta_0\u001b[0m\u001b[0;34m,\u001b[0m \u001b[0mtheta_1\u001b[0m\u001b[0;34m,\u001b[0m \u001b[0mvel0\u001b[0m\u001b[0;34m=\u001b[0m\u001b[0;36m0\u001b[0m\u001b[0;34m,\u001b[0m \u001b[0mvel1\u001b[0m\u001b[0;34m=\u001b[0m\u001b[0;36m0\u001b[0m\u001b[0;34m,\u001b[0m \u001b[0mcurr0\u001b[0m\u001b[0;34m=\u001b[0m\u001b[0;36m0\u001b[0m\u001b[0;34m,\u001b[0m \u001b[0mcurr1\u001b[0m\u001b[0;34m=\u001b[0m\u001b[0;36m0\u001b[0m\u001b[0;34m)\u001b[0m\u001b[0;34m\u001b[0m\u001b[0m\n\u001b[1;32m    173\u001b[0m \u001b[0;34m\u001b[0m\u001b[0m\n",
      "\u001b[0;32m~/ODrive/tools/robot/leg.py\u001b[0m in \u001b[0;36minverse_kinematics\u001b[0;34m(self, x, y)\u001b[0m\n\u001b[1;32m    277\u001b[0m             \u001b[0mprint\u001b[0m\u001b[0;34m(\u001b[0m\u001b[0mx_error\u001b[0m\u001b[0;34m.\u001b[0m\u001b[0mnorm\u001b[0m\u001b[0;34m(\u001b[0m\u001b[0;34m)\u001b[0m\u001b[0;34m)\u001b[0m\u001b[0;34m\u001b[0m\u001b[0m\n\u001b[1;32m    278\u001b[0m \u001b[0;34m\u001b[0m\u001b[0m\n\u001b[0;32m--> 279\u001b[0;31m             \u001b[0mJ_current_inv\u001b[0m \u001b[0;34m=\u001b[0m \u001b[0mJ_current\u001b[0m\u001b[0;34m(\u001b[0m\u001b[0mtheta_current\u001b[0m\u001b[0;34m[\u001b[0m\u001b[0;36m0\u001b[0m\u001b[0;34m]\u001b[0m\u001b[0;34m,\u001b[0m\u001b[0mtheta_current\u001b[0m\u001b[0;34m[\u001b[0m\u001b[0;36m1\u001b[0m\u001b[0;34m]\u001b[0m\u001b[0;34m)\u001b[0m\u001b[0;34m\u001b[0m\u001b[0m\n\u001b[0m\u001b[1;32m    280\u001b[0m             \u001b[0mJ_current_inv\u001b[0m \u001b[0;34m=\u001b[0m \u001b[0mnp\u001b[0m\u001b[0;34m.\u001b[0m\u001b[0mlinalg\u001b[0m\u001b[0;34m.\u001b[0m\u001b[0mpinv\u001b[0m\u001b[0;34m(\u001b[0m\u001b[0mJ_current_inv\u001b[0m\u001b[0;34m)\u001b[0m\u001b[0;34m\u001b[0m\u001b[0m\n\u001b[1;32m    281\u001b[0m \u001b[0;34m\u001b[0m\u001b[0m\n",
      "\u001b[0;32m/anaconda3/lib/python3.6/site-packages/numpy/__init__.py\u001b[0m in \u001b[0;36m<lambda>\u001b[0;34m(_Dummy_19, _Dummy_20)\u001b[0m\n",
      "\u001b[0;31mAttributeError\u001b[0m: 'Float' object has no attribute 'sin'"
     ]
    }
   ],
   "source": [
    "a = [10,20,80,-100]\n",
    "b = [10,20,80,-100]\n",
    "t = 20\n",
    "\n",
    "leg.move_trajectory(t,a,b)\n"
   ]
  },
  {
   "cell_type": "code",
   "execution_count": null,
   "metadata": {},
   "outputs": [],
   "source": []
  }
 ],
 "metadata": {
  "kernelspec": {
   "display_name": "Python 3",
   "language": "python",
   "name": "python3"
  },
  "language_info": {
   "codemirror_mode": {
    "name": "ipython",
    "version": 3
   },
   "file_extension": ".py",
   "mimetype": "text/x-python",
   "name": "python",
   "nbconvert_exporter": "python",
   "pygments_lexer": "ipython3",
   "version": "3.6.4"
  }
 },
 "nbformat": 4,
 "nbformat_minor": 2
}
